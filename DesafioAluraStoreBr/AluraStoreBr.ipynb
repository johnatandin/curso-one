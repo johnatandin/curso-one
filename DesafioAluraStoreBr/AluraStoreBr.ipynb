{
  "nbformat": 4,
  "nbformat_minor": 0,
  "metadata": {
    "colab": {
      "provenance": [],
      "include_colab_link": true
    },
    "kernelspec": {
      "name": "python3",
      "display_name": "Python 3"
    },
    "language_info": {
      "name": "python"
    }
  },
  "cells": [
    {
      "cell_type": "markdown",
      "metadata": {
        "id": "view-in-github",
        "colab_type": "text"
      },
      "source": [
        "<a href=\"https://colab.research.google.com/github/johnatandin/curso-one/blob/main/AluraStoreBr.ipynb\" target=\"_parent\"><img src=\"https://colab.research.google.com/assets/colab-badge.svg\" alt=\"Open In Colab\"/></a>"
      ]
    },
    {
      "cell_type": "markdown",
      "source": [
        "### Importação dos dados\n",
        "\n"
      ],
      "metadata": {
        "id": "RhEdWd9YUR6H"
      }
    },
    {
      "cell_type": "code",
      "execution_count": null,
      "metadata": {
        "colab": {
          "base_uri": "https://localhost:8080/",
          "height": 300
        },
        "id": "T3EvaeQ_INIL",
        "outputId": "dc07b268-75e1-486a-db59-47b69bcde31d"
      },
      "outputs": [
        {
          "output_type": "execute_result",
          "data": {
            "text/plain": [
              "             Preço        Frete  Avaliação da compra  Quantidade de parcelas  \\\n",
              "count  9435.000000  9435.000000          9435.000000             9435.000000   \n",
              "mean    622.309570    33.167002             4.014520                2.927398   \n",
              "std     787.094508    41.973711             1.390518                2.802776   \n",
              "min      10.070000     0.000000             1.000000                1.000000   \n",
              "25%      73.610000     4.009423             3.000000                1.000000   \n",
              "50%     295.350000    15.648481             5.000000                1.000000   \n",
              "75%     884.405000    46.591030             5.000000                4.000000   \n",
              "max    3969.380000   216.707633             5.000000               24.000000   \n",
              "\n",
              "               lat          lon  \n",
              "count  9435.000000  9435.000000  \n",
              "mean    -20.534059   -47.171176  \n",
              "std       5.399153     4.177887  \n",
              "min     -30.170000   -70.550000  \n",
              "25%     -22.250000   -48.790000  \n",
              "50%     -22.190000   -48.790000  \n",
              "75%     -18.100000   -44.380000  \n",
              "max       1.990000   -36.590000  "
            ],
            "text/html": [
              "\n",
              "  <div id=\"df-0dc1eadb-f0c2-41e0-883d-010e61ea8608\" class=\"colab-df-container\">\n",
              "    <div>\n",
              "<style scoped>\n",
              "    .dataframe tbody tr th:only-of-type {\n",
              "        vertical-align: middle;\n",
              "    }\n",
              "\n",
              "    .dataframe tbody tr th {\n",
              "        vertical-align: top;\n",
              "    }\n",
              "\n",
              "    .dataframe thead th {\n",
              "        text-align: right;\n",
              "    }\n",
              "</style>\n",
              "<table border=\"1\" class=\"dataframe\">\n",
              "  <thead>\n",
              "    <tr style=\"text-align: right;\">\n",
              "      <th></th>\n",
              "      <th>Preço</th>\n",
              "      <th>Frete</th>\n",
              "      <th>Avaliação da compra</th>\n",
              "      <th>Quantidade de parcelas</th>\n",
              "      <th>lat</th>\n",
              "      <th>lon</th>\n",
              "    </tr>\n",
              "  </thead>\n",
              "  <tbody>\n",
              "    <tr>\n",
              "      <th>count</th>\n",
              "      <td>9435.000000</td>\n",
              "      <td>9435.000000</td>\n",
              "      <td>9435.000000</td>\n",
              "      <td>9435.000000</td>\n",
              "      <td>9435.000000</td>\n",
              "      <td>9435.000000</td>\n",
              "    </tr>\n",
              "    <tr>\n",
              "      <th>mean</th>\n",
              "      <td>622.309570</td>\n",
              "      <td>33.167002</td>\n",
              "      <td>4.014520</td>\n",
              "      <td>2.927398</td>\n",
              "      <td>-20.534059</td>\n",
              "      <td>-47.171176</td>\n",
              "    </tr>\n",
              "    <tr>\n",
              "      <th>std</th>\n",
              "      <td>787.094508</td>\n",
              "      <td>41.973711</td>\n",
              "      <td>1.390518</td>\n",
              "      <td>2.802776</td>\n",
              "      <td>5.399153</td>\n",
              "      <td>4.177887</td>\n",
              "    </tr>\n",
              "    <tr>\n",
              "      <th>min</th>\n",
              "      <td>10.070000</td>\n",
              "      <td>0.000000</td>\n",
              "      <td>1.000000</td>\n",
              "      <td>1.000000</td>\n",
              "      <td>-30.170000</td>\n",
              "      <td>-70.550000</td>\n",
              "    </tr>\n",
              "    <tr>\n",
              "      <th>25%</th>\n",
              "      <td>73.610000</td>\n",
              "      <td>4.009423</td>\n",
              "      <td>3.000000</td>\n",
              "      <td>1.000000</td>\n",
              "      <td>-22.250000</td>\n",
              "      <td>-48.790000</td>\n",
              "    </tr>\n",
              "    <tr>\n",
              "      <th>50%</th>\n",
              "      <td>295.350000</td>\n",
              "      <td>15.648481</td>\n",
              "      <td>5.000000</td>\n",
              "      <td>1.000000</td>\n",
              "      <td>-22.190000</td>\n",
              "      <td>-48.790000</td>\n",
              "    </tr>\n",
              "    <tr>\n",
              "      <th>75%</th>\n",
              "      <td>884.405000</td>\n",
              "      <td>46.591030</td>\n",
              "      <td>5.000000</td>\n",
              "      <td>4.000000</td>\n",
              "      <td>-18.100000</td>\n",
              "      <td>-44.380000</td>\n",
              "    </tr>\n",
              "    <tr>\n",
              "      <th>max</th>\n",
              "      <td>3969.380000</td>\n",
              "      <td>216.707633</td>\n",
              "      <td>5.000000</td>\n",
              "      <td>24.000000</td>\n",
              "      <td>1.990000</td>\n",
              "      <td>-36.590000</td>\n",
              "    </tr>\n",
              "  </tbody>\n",
              "</table>\n",
              "</div>\n",
              "    <div class=\"colab-df-buttons\">\n",
              "\n",
              "  <div class=\"colab-df-container\">\n",
              "    <button class=\"colab-df-convert\" onclick=\"convertToInteractive('df-0dc1eadb-f0c2-41e0-883d-010e61ea8608')\"\n",
              "            title=\"Convert this dataframe to an interactive table.\"\n",
              "            style=\"display:none;\">\n",
              "\n",
              "  <svg xmlns=\"http://www.w3.org/2000/svg\" height=\"24px\" viewBox=\"0 -960 960 960\">\n",
              "    <path d=\"M120-120v-720h720v720H120Zm60-500h600v-160H180v160Zm220 220h160v-160H400v160Zm0 220h160v-160H400v160ZM180-400h160v-160H180v160Zm440 0h160v-160H620v160ZM180-180h160v-160H180v160Zm440 0h160v-160H620v160Z\"/>\n",
              "  </svg>\n",
              "    </button>\n",
              "\n",
              "  <style>\n",
              "    .colab-df-container {\n",
              "      display:flex;\n",
              "      gap: 12px;\n",
              "    }\n",
              "\n",
              "    .colab-df-convert {\n",
              "      background-color: #E8F0FE;\n",
              "      border: none;\n",
              "      border-radius: 50%;\n",
              "      cursor: pointer;\n",
              "      display: none;\n",
              "      fill: #1967D2;\n",
              "      height: 32px;\n",
              "      padding: 0 0 0 0;\n",
              "      width: 32px;\n",
              "    }\n",
              "\n",
              "    .colab-df-convert:hover {\n",
              "      background-color: #E2EBFA;\n",
              "      box-shadow: 0px 1px 2px rgba(60, 64, 67, 0.3), 0px 1px 3px 1px rgba(60, 64, 67, 0.15);\n",
              "      fill: #174EA6;\n",
              "    }\n",
              "\n",
              "    .colab-df-buttons div {\n",
              "      margin-bottom: 4px;\n",
              "    }\n",
              "\n",
              "    [theme=dark] .colab-df-convert {\n",
              "      background-color: #3B4455;\n",
              "      fill: #D2E3FC;\n",
              "    }\n",
              "\n",
              "    [theme=dark] .colab-df-convert:hover {\n",
              "      background-color: #434B5C;\n",
              "      box-shadow: 0px 1px 3px 1px rgba(0, 0, 0, 0.15);\n",
              "      filter: drop-shadow(0px 1px 2px rgba(0, 0, 0, 0.3));\n",
              "      fill: #FFFFFF;\n",
              "    }\n",
              "  </style>\n",
              "\n",
              "    <script>\n",
              "      const buttonEl =\n",
              "        document.querySelector('#df-0dc1eadb-f0c2-41e0-883d-010e61ea8608 button.colab-df-convert');\n",
              "      buttonEl.style.display =\n",
              "        google.colab.kernel.accessAllowed ? 'block' : 'none';\n",
              "\n",
              "      async function convertToInteractive(key) {\n",
              "        const element = document.querySelector('#df-0dc1eadb-f0c2-41e0-883d-010e61ea8608');\n",
              "        const dataTable =\n",
              "          await google.colab.kernel.invokeFunction('convertToInteractive',\n",
              "                                                    [key], {});\n",
              "        if (!dataTable) return;\n",
              "\n",
              "        const docLinkHtml = 'Like what you see? Visit the ' +\n",
              "          '<a target=\"_blank\" href=https://colab.research.google.com/notebooks/data_table.ipynb>data table notebook</a>'\n",
              "          + ' to learn more about interactive tables.';\n",
              "        element.innerHTML = '';\n",
              "        dataTable['output_type'] = 'display_data';\n",
              "        await google.colab.output.renderOutput(dataTable, element);\n",
              "        const docLink = document.createElement('div');\n",
              "        docLink.innerHTML = docLinkHtml;\n",
              "        element.appendChild(docLink);\n",
              "      }\n",
              "    </script>\n",
              "  </div>\n",
              "\n",
              "\n",
              "<div id=\"df-5083fd26-c4dc-4150-976c-7d02c143f32d\">\n",
              "  <button class=\"colab-df-quickchart\" onclick=\"quickchart('df-5083fd26-c4dc-4150-976c-7d02c143f32d')\"\n",
              "            title=\"Suggest charts\"\n",
              "            style=\"display:none;\">\n",
              "\n",
              "<svg xmlns=\"http://www.w3.org/2000/svg\" height=\"24px\"viewBox=\"0 0 24 24\"\n",
              "     width=\"24px\">\n",
              "    <g>\n",
              "        <path d=\"M19 3H5c-1.1 0-2 .9-2 2v14c0 1.1.9 2 2 2h14c1.1 0 2-.9 2-2V5c0-1.1-.9-2-2-2zM9 17H7v-7h2v7zm4 0h-2V7h2v10zm4 0h-2v-4h2v4z\"/>\n",
              "    </g>\n",
              "</svg>\n",
              "  </button>\n",
              "\n",
              "<style>\n",
              "  .colab-df-quickchart {\n",
              "      --bg-color: #E8F0FE;\n",
              "      --fill-color: #1967D2;\n",
              "      --hover-bg-color: #E2EBFA;\n",
              "      --hover-fill-color: #174EA6;\n",
              "      --disabled-fill-color: #AAA;\n",
              "      --disabled-bg-color: #DDD;\n",
              "  }\n",
              "\n",
              "  [theme=dark] .colab-df-quickchart {\n",
              "      --bg-color: #3B4455;\n",
              "      --fill-color: #D2E3FC;\n",
              "      --hover-bg-color: #434B5C;\n",
              "      --hover-fill-color: #FFFFFF;\n",
              "      --disabled-bg-color: #3B4455;\n",
              "      --disabled-fill-color: #666;\n",
              "  }\n",
              "\n",
              "  .colab-df-quickchart {\n",
              "    background-color: var(--bg-color);\n",
              "    border: none;\n",
              "    border-radius: 50%;\n",
              "    cursor: pointer;\n",
              "    display: none;\n",
              "    fill: var(--fill-color);\n",
              "    height: 32px;\n",
              "    padding: 0;\n",
              "    width: 32px;\n",
              "  }\n",
              "\n",
              "  .colab-df-quickchart:hover {\n",
              "    background-color: var(--hover-bg-color);\n",
              "    box-shadow: 0 1px 2px rgba(60, 64, 67, 0.3), 0 1px 3px 1px rgba(60, 64, 67, 0.15);\n",
              "    fill: var(--button-hover-fill-color);\n",
              "  }\n",
              "\n",
              "  .colab-df-quickchart-complete:disabled,\n",
              "  .colab-df-quickchart-complete:disabled:hover {\n",
              "    background-color: var(--disabled-bg-color);\n",
              "    fill: var(--disabled-fill-color);\n",
              "    box-shadow: none;\n",
              "  }\n",
              "\n",
              "  .colab-df-spinner {\n",
              "    border: 2px solid var(--fill-color);\n",
              "    border-color: transparent;\n",
              "    border-bottom-color: var(--fill-color);\n",
              "    animation:\n",
              "      spin 1s steps(1) infinite;\n",
              "  }\n",
              "\n",
              "  @keyframes spin {\n",
              "    0% {\n",
              "      border-color: transparent;\n",
              "      border-bottom-color: var(--fill-color);\n",
              "      border-left-color: var(--fill-color);\n",
              "    }\n",
              "    20% {\n",
              "      border-color: transparent;\n",
              "      border-left-color: var(--fill-color);\n",
              "      border-top-color: var(--fill-color);\n",
              "    }\n",
              "    30% {\n",
              "      border-color: transparent;\n",
              "      border-left-color: var(--fill-color);\n",
              "      border-top-color: var(--fill-color);\n",
              "      border-right-color: var(--fill-color);\n",
              "    }\n",
              "    40% {\n",
              "      border-color: transparent;\n",
              "      border-right-color: var(--fill-color);\n",
              "      border-top-color: var(--fill-color);\n",
              "    }\n",
              "    60% {\n",
              "      border-color: transparent;\n",
              "      border-right-color: var(--fill-color);\n",
              "    }\n",
              "    80% {\n",
              "      border-color: transparent;\n",
              "      border-right-color: var(--fill-color);\n",
              "      border-bottom-color: var(--fill-color);\n",
              "    }\n",
              "    90% {\n",
              "      border-color: transparent;\n",
              "      border-bottom-color: var(--fill-color);\n",
              "    }\n",
              "  }\n",
              "</style>\n",
              "\n",
              "  <script>\n",
              "    async function quickchart(key) {\n",
              "      const quickchartButtonEl =\n",
              "        document.querySelector('#' + key + ' button');\n",
              "      quickchartButtonEl.disabled = true;  // To prevent multiple clicks.\n",
              "      quickchartButtonEl.classList.add('colab-df-spinner');\n",
              "      try {\n",
              "        const charts = await google.colab.kernel.invokeFunction(\n",
              "            'suggestCharts', [key], {});\n",
              "      } catch (error) {\n",
              "        console.error('Error during call to suggestCharts:', error);\n",
              "      }\n",
              "      quickchartButtonEl.classList.remove('colab-df-spinner');\n",
              "      quickchartButtonEl.classList.add('colab-df-quickchart-complete');\n",
              "    }\n",
              "    (() => {\n",
              "      let quickchartButtonEl =\n",
              "        document.querySelector('#df-5083fd26-c4dc-4150-976c-7d02c143f32d button');\n",
              "      quickchartButtonEl.style.display =\n",
              "        google.colab.kernel.accessAllowed ? 'block' : 'none';\n",
              "    })();\n",
              "  </script>\n",
              "</div>\n",
              "\n",
              "    </div>\n",
              "  </div>\n"
            ],
            "application/vnd.google.colaboratory.intrinsic+json": {
              "type": "dataframe",
              "summary": "{\n  \"name\": \"lojas\",\n  \"rows\": 8,\n  \"fields\": [\n    {\n      \"column\": \"Pre\\u00e7o\",\n      \"properties\": {\n        \"dtype\": \"number\",\n        \"std\": 3258.9939629768533,\n        \"min\": 10.07,\n        \"max\": 9435.0,\n        \"num_unique_values\": 8,\n        \"samples\": [\n          622.3095696873345,\n          295.35,\n          9435.0\n        ],\n        \"semantic_type\": \"\",\n        \"description\": \"\"\n      }\n    },\n    {\n      \"column\": \"Frete\",\n      \"properties\": {\n        \"dtype\": \"number\",\n        \"std\": 3318.4201581742623,\n        \"min\": 0.0,\n        \"max\": 9435.0,\n        \"num_unique_values\": 8,\n        \"samples\": [\n          33.16700181769606,\n          15.6484809654,\n          9435.0\n        ],\n        \"semantic_type\": \"\",\n        \"description\": \"\"\n      }\n    },\n    {\n      \"column\": \"Avalia\\u00e7\\u00e3o da compra\",\n      \"properties\": {\n        \"dtype\": \"number\",\n        \"std\": 3334.5439844712855,\n        \"min\": 1.0,\n        \"max\": 9435.0,\n        \"num_unique_values\": 6,\n        \"samples\": [\n          9435.0,\n          4.014520402755696,\n          5.0\n        ],\n        \"semantic_type\": \"\",\n        \"description\": \"\"\n      }\n    },\n    {\n      \"column\": \"Quantidade de parcelas\",\n      \"properties\": {\n        \"dtype\": \"number\",\n        \"std\": 3333.93005679284,\n        \"min\": 1.0,\n        \"max\": 9435.0,\n        \"num_unique_values\": 6,\n        \"samples\": [\n          9435.0,\n          2.9273979862215156,\n          24.0\n        ],\n        \"semantic_type\": \"\",\n        \"description\": \"\"\n      }\n    },\n    {\n      \"column\": \"lat\",\n      \"properties\": {\n        \"dtype\": \"number\",\n        \"std\": 3341.1457943408905,\n        \"min\": -30.17,\n        \"max\": 9435.0,\n        \"num_unique_values\": 8,\n        \"samples\": [\n          -20.53405935347112,\n          -22.19,\n          9435.0\n        ],\n        \"semantic_type\": \"\",\n        \"description\": \"\"\n      }\n    },\n    {\n      \"column\": \"lon\",\n      \"properties\": {\n        \"dtype\": \"number\",\n        \"std\": 3350.5952845948477,\n        \"min\": -70.55,\n        \"max\": 9435.0,\n        \"num_unique_values\": 7,\n        \"samples\": [\n          9435.0,\n          -47.17117647058823,\n          -44.38\n        ],\n        \"semantic_type\": \"\",\n        \"description\": \"\"\n      }\n    }\n  ]\n}"
            }
          },
          "metadata": {},
          "execution_count": 17
        }
      ],
      "source": [
        "import pandas as pd\n",
        "\n",
        "url = \"https://raw.githubusercontent.com/alura-es-cursos/challenge1-data-science/refs/heads/main/base-de-dados-challenge-1/loja_1.csv\"\n",
        "url2 = \"https://raw.githubusercontent.com/alura-es-cursos/challenge1-data-science/refs/heads/main/base-de-dados-challenge-1/loja_2.csv\"\n",
        "url3 = \"https://raw.githubusercontent.com/alura-es-cursos/challenge1-data-science/refs/heads/main/base-de-dados-challenge-1/loja_3.csv\"\n",
        "url4 = \"https://raw.githubusercontent.com/alura-es-cursos/challenge1-data-science/refs/heads/main/base-de-dados-challenge-1/loja_4.csv\"\n",
        "\n",
        "loja = pd.read_csv(url)\n",
        "loja2 = pd.read_csv(url2)\n",
        "loja3 = pd.read_csv(url3)\n",
        "loja4 = pd.read_csv(url4)\n",
        "\n",
        "\n",
        "# Concatenando os dataframes\n",
        "lojas =pd.concat([loja, loja2, loja3, loja4])\n",
        "\n"
      ]
    },
    {
      "cell_type": "markdown",
      "source": [
        "#1. Análise do faturamento\n"
      ],
      "metadata": {
        "id": "X62IW3KFUIYm"
      }
    },
    {
      "cell_type": "code",
      "source": [
        "\n",
        "\n",
        "# Calculando o faturamento total por dia, incluindo o frete\n",
        "faturamento_diario = lojas.groupby('Data da Compra')[['Preço', 'Frete']].sum()\n",
        "\n",
        "# Exibindo o faturamento diário\n",
        "print(faturamento_diario)\n",
        "\n",
        "valor_total_por_dia = faturamento_diario['Preço'] + faturamento_diario['Frete']\n",
        "print(valor_total_por_dia)\n",
        "\n",
        "faturamento_diario['faturamento_total'] = faturamento_diario['Preço'] + faturamento_diario['Frete']\n",
        "\n",
        "print()\n"
      ],
      "metadata": {
        "id": "xykobSftV64I",
        "colab": {
          "base_uri": "https://localhost:8080/"
        },
        "outputId": "713cb752-57d0-4f50-e99a-fddf53506241"
      },
      "execution_count": null,
      "outputs": [
        {
          "output_type": "stream",
          "name": "stdout",
          "text": [
            "                  Preço       Frete\n",
            "Data da Compra                     \n",
            "01/01/2020      2322.25  122.151621\n",
            "01/01/2021      2521.72  138.239879\n",
            "01/01/2022      5352.95  287.207229\n",
            "01/01/2023      2898.58  161.700541\n",
            "01/02/2020      2290.01  120.086834\n",
            "...                 ...         ...\n",
            "31/10/2021      1982.52  106.109225\n",
            "31/10/2022      4511.67  241.213763\n",
            "31/12/2020      3036.64  162.688406\n",
            "31/12/2021      5861.39  309.085318\n",
            "31/12/2022      3978.31  203.055799\n",
            "\n",
            "[1185 rows x 2 columns]\n",
            "Data da Compra\n",
            "01/01/2020    2444.401621\n",
            "01/01/2021    2659.959879\n",
            "01/01/2022    5640.157229\n",
            "01/01/2023    3060.280541\n",
            "01/02/2020    2410.096834\n",
            "                 ...     \n",
            "31/10/2021    2088.629225\n",
            "31/10/2022    4752.883763\n",
            "31/12/2020    3199.328406\n",
            "31/12/2021    6170.475318\n",
            "31/12/2022    4181.365799\n",
            "Length: 1185, dtype: float64\n",
            "\n"
          ]
        }
      ]
    },
    {
      "cell_type": "code",
      "source": [
        "# prompt: organize o faturamento por ano\n",
        "\n",
        "import pandas as pd\n",
        "# Convertendo a coluna 'Data da Compra' para o tipo datetime, se ainda não estiver\n",
        "lojas['Data da Compra'] = pd.to_datetime(lojas['Data da Compra'])\n",
        "\n",
        "# Extraindo o ano da coluna 'Data da Compra'\n",
        "lojas['Ano'] = lojas['Data da Compra'].dt.year\n",
        "\n",
        "# Agrupando por ano e somando o preço para obter o faturamento anual\n",
        "faturamento_anual = lojas.groupby('Ano')['Preço'].sum()\n",
        "\n",
        "# Imprimindo o faturamento anual\n",
        "print(\"\\nFaturamento por ano:\")\n",
        "faturamento_anual\n"
      ],
      "metadata": {
        "id": "KDyr8E71V3m-",
        "colab": {
          "base_uri": "https://localhost:8080/",
          "height": 310
        },
        "outputId": "c3116052-438e-41ae-cc9a-6e49a5cf7fc5"
      },
      "execution_count": null,
      "outputs": [
        {
          "output_type": "stream",
          "name": "stdout",
          "text": [
            "\n",
            "Faturamento por ano:\n"
          ]
        },
        {
          "output_type": "stream",
          "name": "stderr",
          "text": [
            "<ipython-input-3-b72c884efa47>:5: UserWarning: Parsing dates in %d/%m/%Y format when dayfirst=False (the default) was specified. Pass `dayfirst=True` or specify a format to silence this warning.\n",
            "  lojas['Data da Compra'] = pd.to_datetime(lojas['Data da Compra'])\n"
          ]
        },
        {
          "output_type": "execute_result",
          "data": {
            "text/plain": [
              "Ano\n",
              "2020    1789272.37\n",
              "2021    1898820.98\n",
              "2022    1769933.73\n",
              "2023     413463.71\n",
              "Name: Preço, dtype: float64"
            ],
            "text/html": [
              "<div>\n",
              "<style scoped>\n",
              "    .dataframe tbody tr th:only-of-type {\n",
              "        vertical-align: middle;\n",
              "    }\n",
              "\n",
              "    .dataframe tbody tr th {\n",
              "        vertical-align: top;\n",
              "    }\n",
              "\n",
              "    .dataframe thead th {\n",
              "        text-align: right;\n",
              "    }\n",
              "</style>\n",
              "<table border=\"1\" class=\"dataframe\">\n",
              "  <thead>\n",
              "    <tr style=\"text-align: right;\">\n",
              "      <th></th>\n",
              "      <th>Preço</th>\n",
              "    </tr>\n",
              "    <tr>\n",
              "      <th>Ano</th>\n",
              "      <th></th>\n",
              "    </tr>\n",
              "  </thead>\n",
              "  <tbody>\n",
              "    <tr>\n",
              "      <th>2020</th>\n",
              "      <td>1789272.37</td>\n",
              "    </tr>\n",
              "    <tr>\n",
              "      <th>2021</th>\n",
              "      <td>1898820.98</td>\n",
              "    </tr>\n",
              "    <tr>\n",
              "      <th>2022</th>\n",
              "      <td>1769933.73</td>\n",
              "    </tr>\n",
              "    <tr>\n",
              "      <th>2023</th>\n",
              "      <td>413463.71</td>\n",
              "    </tr>\n",
              "  </tbody>\n",
              "</table>\n",
              "</div><br><label><b>dtype:</b> float64</label>"
            ]
          },
          "metadata": {},
          "execution_count": 3
        }
      ]
    },
    {
      "cell_type": "code",
      "source": [
        "import matplotlib.pyplot as plt\n",
        "\n",
        "# Plotando o gráfico de barras\n",
        "plt.figure(figsize=(10, 6))\n",
        "faturamento_anual.plot(kind='bar', color='lightgreen')\n",
        "\n",
        "plt.title('Faturamento Total por Ano')\n",
        "plt.xlabel('Ano')\n",
        "plt.ylabel('R$ Faturamento')\n",
        "plt.xticks(rotation=0)\n",
        "plt.grid(axis='y', linestyle='--', alpha=0.7)\n",
        "plt.tight_layout()\n",
        "plt.show()"
      ],
      "metadata": {
        "colab": {
          "base_uri": "https://localhost:8080/",
          "height": 607
        },
        "id": "pocJQ2FLft_w",
        "outputId": "c9da0cd6-8934-4a37-8658-4328a6d55054"
      },
      "execution_count": null,
      "outputs": [
        {
          "output_type": "display_data",
          "data": {
            "text/plain": [
              "<Figure size 1000x600 with 1 Axes>"
            ],
            "image/png": "[encoded data removed]"
          },
          "metadata": {}
        }
      ]
    },
    {
      "cell_type": "code",
      "source": [
        "import seaborn as sns\n",
        "\n",
        "# Resetando índice para usar com seaborn\n",
        "df_anual = faturamento_anual.reset_index()\n",
        "\n",
        "plt.figure(figsize=(10, 6))\n",
        "sns.barplot(data=df_anual, x='Ano', y='Preço', palette='viridis')\n",
        "\n",
        "plt.title('Faturamento Total por Ano')\n",
        "plt.xlabel('Ano')\n",
        "plt.ylabel('R$ Faturamento')\n",
        "plt.grid(axis='y', linestyle='--', alpha=0.5)\n",
        "plt.tight_layout()\n",
        "plt.show()"
      ],
      "metadata": {
        "id": "PJCFRkT3f-Xe",
        "outputId": "8d641738-2c8c-44e7-8851-f422bec88d33",
        "colab": {
          "base_uri": "https://localhost:8080/",
          "height": 694
        }
      },
      "execution_count": null,
      "outputs": [
        {
          "output_type": "stream",
          "name": "stderr",
          "text": [
            "<ipython-input-5-e8523ba55133>:7: FutureWarning: \n",
            "\n",
            "Passing `palette` without assigning `hue` is deprecated and will be removed in v0.14.0. Assign the `x` variable to `hue` and set `legend=False` for the same effect.\n",
            "\n",
            "  sns.barplot(data=df_anual, x='Ano', y='Preço', palette='viridis')\n"
          ]
        },
        {
          "output_type": "display_data",
          "data": {
            "text/plain": [
              "<Figure size 1000x600 with 1 Axes>"
            ],
            "image/png": "[encoded data removed]"
          },
          "metadata": {}
        }
      ]
    },
    {
      "cell_type": "code",
      "source": [
        "# prompt: calcular o faturamento de cada loja , loja2 , loja3, loja4\n",
        "\n",
        "# Calculando o faturamento de cada loja individualmente\n",
        "faturamento_loja1 = loja['Preço'].sum()\n",
        "faturamento_loja2 = loja2['Preço'].sum()\n",
        "faturamento_loja3 = loja3['Preço'].sum()\n",
        "faturamento_loja4 = loja4['Preço'].sum()\n",
        "\n",
        "print(f\"Faturamento da Loja 1: R${faturamento_loja1:.2f}\")\n",
        "print(f\"Faturamento da Loja 2: R${faturamento_loja2:.2f}\")\n",
        "print(f\"Faturamento da Loja 3: R${faturamento_loja3:.2f}\")\n",
        "print(f\"Faturamento da Loja 4: R${faturamento_loja4:.2f}\")\n",
        "\n"
      ],
      "metadata": {
        "colab": {
          "base_uri": "https://localhost:8080/"
        },
        "id": "XvqJzWlsWOUf",
        "outputId": "7602ca2f-d71b-495b-d7cb-407439995091"
      },
      "execution_count": null,
      "outputs": [
        {
          "output_type": "stream",
          "name": "stdout",
          "text": [
            "Faturamento da Loja 1: R$1534509.12\n",
            "Faturamento da Loja 2: R$1488459.06\n",
            "Faturamento da Loja 3: R$1464025.03\n",
            "Faturamento da Loja 4: R$1384497.58\n"
          ]
        }
      ]
    },
    {
      "cell_type": "code",
      "source": [
        "\n",
        "\n",
        "import matplotlib.pyplot as plt\n",
        "\n",
        "# Dados de faturamento (substitua pelos valores reais)\n",
        "faturamento_loja1 = loja['Preço'].sum()\n",
        "faturamento_loja2 = loja2['Preço'].sum()\n",
        "faturamento_loja3 = loja3['Preço'].sum()\n",
        "faturamento_loja4 = loja4['Preço'].sum()\n",
        "\n",
        "lojas = ['Loja 1', 'Loja 2', 'Loja 3', 'Loja 4']\n",
        "faturamentos = [faturamento_loja1, faturamento_loja2, faturamento_loja3, faturamento_loja4]\n",
        "\n",
        "# Criando o gráfico de barras\n",
        "plt.figure(figsize=(10, 6))\n",
        "plt.bar(lojas, faturamentos, color=['skyblue', 'lightcoral', 'lightgreen', 'gold'])\n",
        "plt.title('Faturamento por Loja')\n",
        "plt.xlabel('Lojas')\n",
        "plt.ylabel('Faturamento (R$)')\n",
        "plt.grid(axis='y', linestyle='--', alpha=0.7)\n",
        "\n",
        "# Adicionando rótulos de valor acima de cada barra\n",
        "for i, v in enumerate(faturamentos):\n",
        "    plt.text(i, v, f'R${v:.2f}', ha='center', va='bottom')\n",
        "\n",
        "plt.show()\n"
      ],
      "metadata": {
        "colab": {
          "base_uri": "https://localhost:8080/",
          "height": 564
        },
        "id": "oBcgGwLBUbvg",
        "outputId": "b2df4a82-1c40-4c99-9c46-fbf1c00b84ba"
      },
      "execution_count": null,
      "outputs": [
        {
          "output_type": "display_data",
          "data": {
            "text/plain": [
              "<Figure size 1000x600 with 1 Axes>"
            ],
            "image/png": "[encoded data removed]"
          },
          "metadata": {}
        }
      ]
    },
    {
      "cell_type": "markdown",
      "source": [
        "# 2. Vendas por Categoria\n"
      ],
      "metadata": {
        "id": "2V_vcAPzWZmR"
      }
    },
    {
      "cell_type": "code",
      "source": [
        "# Agrupa por categoria e calcula a média da avaliação\n",
        "media_categoria = lojas.groupby(\"Categoria do Produto\")[\"Avaliação da compra\"].mean().reset_index()\n",
        "\n",
        "# Renomeia a coluna\n",
        "media_categoria.columns = [\"Categoria do Produto\", \"Média da Avaliação\"]\n",
        "\n",
        "# Ordena do maior para o menor\n",
        "media_categoria = media_categoria.sort_values(by=\"Média da Avaliação\", ascending=False)\n",
        "\n",
        "# Exibe\n",
        "print(media_categoria)"
      ],
      "metadata": {
        "id": "A34YupIuYhfF",
        "colab": {
          "base_uri": "https://localhost:8080/"
        },
        "outputId": "93347b8e-fead-4022-e0cb-c51bd6fd2ce1"
      },
      "execution_count": null,
      "outputs": [
        {
          "output_type": "stream",
          "name": "stdout",
          "text": [
            "    Categoria do Produto  Média da Avaliação\n",
            "0             brinquedos            4.070543\n",
            "6                 moveis            4.033934\n",
            "1       eletrodomesticos            4.014795\n",
            "5                 livros            4.004043\n",
            "4  instrumentos musicais            4.003984\n",
            "2            eletronicos            3.992664\n",
            "3        esporte e lazer            3.988320\n",
            "7  utilidades domesticas            3.979452\n"
          ]
        }
      ]
    },
    {
      "cell_type": "code",
      "source": [
        "\n",
        "import matplotlib.pyplot as plt\n",
        "import seaborn as sns\n",
        "\n",
        "# Calcular a média de avaliação por categoria\n",
        "media_categoria = lojas.groupby(\"Categoria do Produto\")[\"Avaliação da compra\"].mean().reset_index()\n",
        "media_categoria.columns = [\"Categoria do Produto\", \"Média da Avaliação\"]\n",
        "media_categoria = media_categoria.sort_values(by=\"Média da Avaliação\", ascending=True)\n",
        "\n",
        "# Criar o gráfico\n",
        "plt.figure(figsize=(10, 6))\n",
        "sns.barplot(\n",
        "    data=media_categoria,\n",
        "    x=\"Média da Avaliação\",\n",
        "    y=\"Categoria do Produto\",\n",
        "    palette=\"crest\"\n",
        ")\n",
        "\n",
        "plt.title(\"Média de Avaliação por Categoria\")\n",
        "plt.xlabel(\"Média da Avaliação\")\n",
        "plt.ylabel(\"Categoria do Produto\")\n",
        "plt.tight_layout()\n",
        "plt.show()\n",
        "\n"
      ],
      "metadata": {
        "id": "yZR6cOjXYSk1",
        "colab": {
          "base_uri": "https://localhost:8080/",
          "height": 694
        },
        "outputId": "379740c8-3bad-4a4c-c680-296e8288c8a1"
      },
      "execution_count": null,
      "outputs": [
        {
          "output_type": "stream",
          "name": "stderr",
          "text": [
            "<ipython-input-21-a66177888896>:11: FutureWarning: \n",
            "\n",
            "Passing `palette` without assigning `hue` is deprecated and will be removed in v0.14.0. Assign the `y` variable to `hue` and set `legend=False` for the same effect.\n",
            "\n",
            "  sns.barplot(\n"
          ]
        },
        {
          "output_type": "display_data",
          "data": {
            "text/plain": [
              "<Figure size 1000x600 with 1 Axes>"
            ],
            "image/png": "[encoded data removed]"
          },
          "metadata": {}
        }
      ]
    },
    {
      "cell_type": "markdown",
      "source": [
        "# 3. Média de Avaliação das Lojas"
      ],
      "metadata": {
        "id": "Rq6tU_xSY3jk"
      }
    },
    {
      "cell_type": "code",
      "source": [
        "#LOJA1\n",
        "\n",
        "# Calcula a média geral da avaliação\n",
        "media_geral = loja[\"Avaliação da compra\"].mean()\n",
        "\n",
        "print(f\"Média geral de avaliação da Loja 1: {media_geral:.2f}\")\n"
      ],
      "metadata": {
        "id": "bh3jjjJwY5MU",
        "colab": {
          "base_uri": "https://localhost:8080/"
        },
        "outputId": "d763ae50-266e-4744-fd80-49f0deedbb8e"
      },
      "execution_count": null,
      "outputs": [
        {
          "output_type": "stream",
          "name": "stdout",
          "text": [
            "Média geral de avaliação da Loja 1: 3.98\n"
          ]
        }
      ]
    },
    {
      "cell_type": "code",
      "source": [
        "#LOJA2\n",
        "\n",
        "# Calcula a média geral da avaliação\n",
        "media_geral = loja2[\"Avaliação da compra\"].mean()\n",
        "\n",
        "print(f\"Média geral de avaliação da Loja 2: {media_geral:.2f}\")"
      ],
      "metadata": {
        "id": "I0KkjPoTY88F",
        "colab": {
          "base_uri": "https://localhost:8080/"
        },
        "outputId": "a4bd2350-79c5-4120-c7d1-c61583e8a7bb"
      },
      "execution_count": null,
      "outputs": [
        {
          "output_type": "stream",
          "name": "stdout",
          "text": [
            "Média geral de avaliação da Loja 2: 4.04\n"
          ]
        }
      ]
    },
    {
      "cell_type": "code",
      "source": [
        "#LOJA3\n",
        "\n",
        "# Calcula a média geral da avaliação\n",
        "media_geral = loja3[\"Avaliação da compra\"].mean()\n",
        "\n",
        "print(f\"Média geral de avaliação da Loja 3: {media_geral:.2f}\")"
      ],
      "metadata": {
        "colab": {
          "base_uri": "https://localhost:8080/"
        },
        "id": "PAydxWJKaeK7",
        "outputId": "1578c189-d1a0-4fdc-c215-eadec7a5eec2"
      },
      "execution_count": null,
      "outputs": [
        {
          "output_type": "stream",
          "name": "stdout",
          "text": [
            "Média geral de avaliação da Loja 3: 4.05\n"
          ]
        }
      ]
    },
    {
      "cell_type": "code",
      "source": [
        "#LOJA4\n",
        "\n",
        "# Calcula a média geral da avaliação\n",
        "media_geral = loja4[\"Avaliação da compra\"].mean()\n",
        "\n",
        "print(f\"Média geral de avaliação da Loja 4: {media_geral:.2f}\")"
      ],
      "metadata": {
        "colab": {
          "base_uri": "https://localhost:8080/"
        },
        "id": "JCl1WEwSaiTQ",
        "outputId": "f1d288aa-f67c-424d-a18a-dfdcbacad7ee"
      },
      "execution_count": null,
      "outputs": [
        {
          "output_type": "stream",
          "name": "stdout",
          "text": [
            "Média geral de avaliação da Loja 4: 4.00\n"
          ]
        }
      ]
    },
    {
      "cell_type": "markdown",
      "source": [
        "# 4. Produtos Mais e Menos Vendidos"
      ],
      "metadata": {
        "id": "DmNp1KPBZCm-"
      }
    },
    {
      "cell_type": "code",
      "source": [
        "#de todas as lojas\n",
        "\n",
        "# Conta quantas vezes cada produto foi vendido\n",
        "vendas_por_produto = lojas[\"Produto\"].value_counts().reset_index()\n",
        "vendas_por_produto.columns = [\"Produto\", \"Quantidade de Vendas\"]\n",
        "\n",
        "# Exibe os 10 mais vendidos\n",
        "print(\"------------TODAS AS LOJAS-------------\")\n",
        "print(\"🔝 Top 10 produtos mais vendidos:\")\n",
        "print(vendas_por_produto.head(10))\n",
        "\n",
        "# Exibe os 10 menos vendidos\n",
        "print(\"\\n🔻 Top 10 produtos menos vendidos:\")\n",
        "print(vendas_por_produto.tail(10))"
      ],
      "metadata": {
        "id": "qoyjqijQZHfF",
        "colab": {
          "base_uri": "https://localhost:8080/"
        },
        "outputId": "bf5fea46-0b97-49d7-a0da-44573bbe5a71"
      },
      "execution_count": null,
      "outputs": [
        {
          "output_type": "stream",
          "name": "stdout",
          "text": [
            "------------TODAS AS LOJAS-------------\n",
            "🔝 Top 10 produtos mais vendidos:\n",
            "                    Produto  Quantidade de Vendas\n",
            "0                    Cômoda                   210\n",
            "1  Carrinho controle remoto                   206\n",
            "2               Micro-ondas                   206\n",
            "3                   Bateria                   203\n",
            "4                 Cama king                   201\n",
            "5        Secadora de roupas                   200\n",
            "6       Modelagem preditiva                   200\n",
            "7           Jogo de panelas                   200\n",
            "8                  Cama box                   199\n",
            "9          Blocos de montar                   199\n",
            "\n",
            "🔻 Top 10 produtos menos vendidos:\n",
            "                        Produto  Quantidade de Vendas\n",
            "41            Panela de pressão                   172\n",
            "42                   Smartwatch                   172\n",
            "43                Jogo de copos                   169\n",
            "44                     Poltrona                   168\n",
            "45           Assistente virtual                   167\n",
            "46  Ciência de dados com python                   166\n",
            "47                     Guitarra                   165\n",
            "48                      Mochila                   163\n",
            "49                      Headset                   158\n",
            "50                 Celular ABXY                   157\n"
          ]
        }
      ]
    },
    {
      "cell_type": "code",
      "source": [
        "#loja1\n",
        "\n",
        "# Conta quantas vezes cada produto foi vendido\n",
        "vendas_por_produto = loja[\"Produto\"].value_counts().reset_index()\n",
        "vendas_por_produto.columns = [\"Produto\", \"Quantidade de Vendas\"]\n",
        "\n",
        "# Exibe os 10 mais vendidos\n",
        "print(\"------------LOJA 1-------------\")\n",
        "print(\"🔝 Top 10 produtos mais vendidos:\")\n",
        "print(vendas_por_produto.head(10))\n",
        "\n",
        "# Exibe os 10 menos vendidos\n",
        "print(\"\\n🔻 Top 10 produtos menos vendidos:\")\n",
        "print(vendas_por_produto.tail(10))"
      ],
      "metadata": {
        "id": "0Sw3sd4IZIGW",
        "colab": {
          "base_uri": "https://localhost:8080/"
        },
        "outputId": "e611c068-f762-4300-8b67-8f282de5247a"
      },
      "execution_count": null,
      "outputs": [
        {
          "output_type": "stream",
          "name": "stdout",
          "text": [
            "------------LOJA 1-------------\n",
            "🔝 Top 10 produtos mais vendidos:\n",
            "              Produto  Quantidade de Vendas\n",
            "0         Micro-ondas                    60\n",
            "1       TV Led UHD 4K                    60\n",
            "2       Guarda roupas                    60\n",
            "3  Secadora de roupas                    58\n",
            "4              Cômoda                    56\n",
            "5    Blocos de montar                    56\n",
            "6    Bola de basquete                    55\n",
            "7           Bicicleta                    54\n",
            "8        Copo térmico                    54\n",
            "9           Geladeira                    54\n",
            "\n",
            "🔻 Top 10 produtos menos vendidos:\n",
            "                        Produto  Quantidade de Vendas\n",
            "41                  Boneca bebê                    40\n",
            "42               Mesa de jantar                    40\n",
            "43               Dinossauro Rex                    40\n",
            "44               Corda de pular                    40\n",
            "45                      Mochila                    39\n",
            "46  Ciência de dados com python                    39\n",
            "47                     Pandeiro                    36\n",
            "48            Panela de pressão                    35\n",
            "49                      Headset                    33\n",
            "50                 Celular ABXY                    33\n"
          ]
        }
      ]
    },
    {
      "cell_type": "code",
      "source": [
        "#loja2\n",
        "\n",
        "# Conta quantas vezes cada produto foi vendido\n",
        "vendas_por_produto = loja2[\"Produto\"].value_counts().reset_index()\n",
        "vendas_por_produto.columns = [\"Produto\", \"Quantidade de Vendas\"]\n",
        "\n",
        "# Exibe os 10 mais vendidos\n",
        "print(\"------------LOJA 2-------------\")\n",
        "print(\"🔝 Top 10 produtos mais vendidos:\")\n",
        "print(vendas_por_produto.head(10))\n",
        "\n",
        "# Exibe os 10 menos vendidos\n",
        "print(\"\\n🔻 Top 10 produtos menos vendidos:\")\n",
        "print(vendas_por_produto.tail(10))"
      ],
      "metadata": {
        "colab": {
          "base_uri": "https://localhost:8080/"
        },
        "id": "K3MP4q5QbIb5",
        "outputId": "87f895ea-46f5-449b-98cb-86a1d4f7f614"
      },
      "execution_count": null,
      "outputs": [
        {
          "output_type": "stream",
          "name": "stdout",
          "text": [
            "------------LOJA 2-------------\n",
            "🔝 Top 10 produtos mais vendidos:\n",
            "                    Produto  Quantidade de Vendas\n",
            "0  Iniciando em programação                    65\n",
            "1               Micro-ondas                    62\n",
            "2                   Bateria                    61\n",
            "3                    Violão                    58\n",
            "4                  Pandeiro                    58\n",
            "5        Secadora de roupas                    57\n",
            "6          Celular Plus X42                    55\n",
            "7          Blocos de montar                    54\n",
            "8             Guarda roupas                    54\n",
            "9           Jogo de panelas                    52\n",
            "\n",
            "🔻 Top 10 produtos menos vendidos:\n",
            "               Produto  Quantidade de Vendas\n",
            "41      Dinossauro Rex                    42\n",
            "42        Celular ABXY                    41\n",
            "43            Smart TV                    40\n",
            "44            Faqueiro                    39\n",
            "45  Assistente virtual                    38\n",
            "46      Fone de ouvido                    37\n",
            "47            Poltrona                    35\n",
            "48      Mesa de jantar                    34\n",
            "49          Impressora                    34\n",
            "50   Jogo de tabuleiro                    32\n"
          ]
        }
      ]
    },
    {
      "cell_type": "code",
      "source": [
        "#loja3\n",
        "\n",
        "# Conta quantas vezes cada produto foi vendido\n",
        "vendas_por_produto = loja3[\"Produto\"].value_counts().reset_index()\n",
        "vendas_por_produto.columns = [\"Produto\", \"Quantidade de Vendas\"]\n",
        "\n",
        "# Exibe os 10 mais vendidos\n",
        "print(\"------------LOJA 3-------------\")\n",
        "print(\"🔝 Top 10 produtos mais vendidos:\")\n",
        "print(vendas_por_produto.head(10))\n",
        "\n",
        "# Exibe os 10 menos vendidos\n",
        "print(\"\\n🔻 Top 10 produtos menos vendidos:\")\n",
        "print(vendas_por_produto.tail(10))"
      ],
      "metadata": {
        "colab": {
          "base_uri": "https://localhost:8080/"
        },
        "id": "9LOdwHQdb9Wx",
        "outputId": "4e832270-5a1e-4427-d3d4-82885dae9d61"
      },
      "execution_count": null,
      "outputs": [
        {
          "output_type": "stream",
          "name": "stdout",
          "text": [
            "------------LOJA 3-------------\n",
            "🔝 Top 10 produtos mais vendidos:\n",
            "                    Produto  Quantidade de Vendas\n",
            "0             Kit banquetas                    57\n",
            "1            Mesa de jantar                    56\n",
            "2                 Cama king                    56\n",
            "3           Jogo de panelas                    55\n",
            "4                    Cômoda                    55\n",
            "5                  Smart TV                    54\n",
            "6                     Fogão                    53\n",
            "7            Corda de pular                    53\n",
            "8       Modelagem preditiva                    53\n",
            "9  Carrinho controle remoto                    52\n",
            "\n",
            "🔻 Top 10 produtos menos vendidos:\n",
            "               Produto  Quantidade de Vendas\n",
            "41            Faqueiro                    39\n",
            "42         Boneca bebê                    39\n",
            "43             Headset                    39\n",
            "44  Assistente virtual                    39\n",
            "45        Copo térmico                    38\n",
            "46            Guitarra                    38\n",
            "47       Jogo de copos                    36\n",
            "48             Mochila                    36\n",
            "49         Micro-ondas                    36\n",
            "50    Blocos de montar                    35\n"
          ]
        }
      ]
    },
    {
      "cell_type": "code",
      "source": [
        "#loja4\n",
        "\n",
        "# Conta quantas vezes cada produto foi vendido\n",
        "vendas_por_produto = loja4[\"Produto\"].value_counts().reset_index()\n",
        "vendas_por_produto.columns = [\"Produto\", \"Quantidade de Vendas\"]\n",
        "\n",
        "# Exibe os 10 mais vendidos\n",
        "print(\"------------LOJA 4-------------\")\n",
        "print(\"🔝 Top 10 produtos mais vendidos:\")\n",
        "print(vendas_por_produto.head(10))\n",
        "\n",
        "# Exibe os 10 menos vendidos\n",
        "print(\"\\n🔻 Top 10 produtos menos vendidos:\")\n",
        "print(vendas_por_produto.tail(10))"
      ],
      "metadata": {
        "colab": {
          "base_uri": "https://localhost:8080/"
        },
        "id": "FS4kjPF4cVYr",
        "outputId": "5e43ebc0-62cd-4dff-eef0-884be8d04fe1"
      },
      "execution_count": null,
      "outputs": [
        {
          "output_type": "stream",
          "name": "stdout",
          "text": [
            "------------LOJA 4-------------\n",
            "🔝 Top 10 produtos mais vendidos:\n",
            "                    Produto  Quantidade de Vendas\n",
            "0                  Cama box                    62\n",
            "1                  Faqueiro                    59\n",
            "2   Dashboards com Power BI                    56\n",
            "3                 Cama king                    56\n",
            "4  Carrinho controle remoto                    55\n",
            "5            Mesa de jantar                    55\n",
            "6                    Cômoda                    55\n",
            "7                  Smart TV                    54\n",
            "8          Blocos de montar                    54\n",
            "9                  Pandeiro                    52\n",
            "\n",
            "🔻 Top 10 produtos menos vendidos:\n",
            "                        Produto  Quantidade de Vendas\n",
            "41        Cadeira de escritório                    40\n",
            "42                 Celular ABXY                    39\n",
            "43            Xadrez de madeira                    39\n",
            "44                   Smartwatch                    39\n",
            "45           Lavadora de roupas                    38\n",
            "46                    Geladeira                    38\n",
            "47  Ciência de dados com python                    38\n",
            "48                       Violão                    37\n",
            "49                Guarda roupas                    34\n",
            "50                     Guitarra                    33\n"
          ]
        }
      ]
    },
    {
      "cell_type": "markdown",
      "source": [
        "# 5. Frete Médio por Loja\n"
      ],
      "metadata": {
        "id": "Fl0cGi3bZKqU"
      }
    },
    {
      "cell_type": "code",
      "source": [
        "#TODAS AS LOJAS\n",
        "# Calcula a média do frete\n",
        "media_frete = lojas[\"Frete\"].mean()\n",
        "print(\"-------------TODAS AS LOJAS----------------\")\n",
        "print(f\"Média do valor do frete: R$ {media_frete:.2f}\")"
      ],
      "metadata": {
        "id": "S2JeaCykZNy9",
        "colab": {
          "base_uri": "https://localhost:8080/"
        },
        "outputId": "80de107c-245b-456a-e8c7-6d1a6cb8d9d7"
      },
      "execution_count": null,
      "outputs": [
        {
          "output_type": "stream",
          "name": "stdout",
          "text": [
            "-------------TODAS AS LOJAS----------------\n",
            "Média do valor do frete: R$ 33.17\n"
          ]
        }
      ]
    },
    {
      "cell_type": "code",
      "source": [
        "# LOJA1\n",
        "# Calcula a média do frete\n",
        "media_frete = loja[\"Frete\"].mean()\n",
        "print(\"-------------TODAS AS LOJA 1----------------\")\n",
        "print(f\"Média do valor do frete: R$ {media_frete:.2f}\")"
      ],
      "metadata": {
        "id": "0tSdCie9ZQlt",
        "colab": {
          "base_uri": "https://localhost:8080/"
        },
        "outputId": "9860d743-dc50-4adc-9c17-f7f56c3c1c3c"
      },
      "execution_count": null,
      "outputs": [
        {
          "output_type": "stream",
          "name": "stdout",
          "text": [
            "-------------TODAS AS LOJA 1----------------\n",
            "Média do valor do frete: R$ 34.69\n"
          ]
        }
      ]
    },
    {
      "cell_type": "code",
      "source": [
        "# LOJA2\n",
        "# Calcula a média do frete\n",
        "media_frete = loja2[\"Frete\"].mean()\n",
        "print(\"-------------TODAS AS LOJA 2----------------\")\n",
        "print(f\"Média do valor do frete: R$ {media_frete:.2f}\")"
      ],
      "metadata": {
        "colab": {
          "base_uri": "https://localhost:8080/"
        },
        "id": "lGQndVmQc4fN",
        "outputId": "59ae3047-a6df-45f6-9839-ad539c1f0e75"
      },
      "execution_count": null,
      "outputs": [
        {
          "output_type": "stream",
          "name": "stdout",
          "text": [
            "-------------TODAS AS LOJA 2----------------\n",
            "Média do valor do frete: R$ 33.62\n"
          ]
        }
      ]
    },
    {
      "cell_type": "code",
      "source": [
        "# LOJA3\n",
        "# Calcula a média do frete\n",
        "media_frete = loja3[\"Frete\"].mean()\n",
        "print(\"-------------TODAS AS LOJA 3----------------\")\n",
        "print(f\"Média do valor do frete: R$ {media_frete:.2f}\")"
      ],
      "metadata": {
        "colab": {
          "base_uri": "https://localhost:8080/"
        },
        "id": "YdyKyfbbc9sc",
        "outputId": "55c303b0-6fb1-4816-8e78-613940f6028a"
      },
      "execution_count": null,
      "outputs": [
        {
          "output_type": "stream",
          "name": "stdout",
          "text": [
            "-------------TODAS AS LOJA 3----------------\n",
            "Média do valor do frete: R$ 33.07\n"
          ]
        }
      ]
    },
    {
      "cell_type": "code",
      "source": [
        "# LOJA4\n",
        "# Calcula a média do frete\n",
        "media_frete = loja4[\"Frete\"].mean()\n",
        "print(\"-------------TODAS AS LOJA 4----------------\")\n",
        "print(f\"Média do valor do frete: R$ {media_frete:.2f}\")"
      ],
      "metadata": {
        "id": "XD4eqwo6dBgK",
        "outputId": "d7f0cceb-8d15-4b11-e058-3598ea9c8f98",
        "colab": {
          "base_uri": "https://localhost:8080/"
        }
      },
      "execution_count": null,
      "outputs": [
        {
          "output_type": "stream",
          "name": "stdout",
          "text": [
            "-------------TODAS AS LOJA 4----------------\n",
            "Média do valor do frete: R$ 31.28\n"
          ]
        }
      ]
    }
  ]
}